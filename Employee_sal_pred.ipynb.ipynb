{
  "nbformat": 4,
  "nbformat_minor": 0,
  "metadata": {
    "colab": {
      "provenance": []
    },
    "kernelspec": {
      "name": "python3",
      "display_name": "Python 3"
    },
    "language_info": {
      "name": "python"
    }
  },
  "cells": [
    {
      "cell_type": "code",
      "execution_count": null,
      "metadata": {
        "id": "tmK6LNeiQ63E"
      },
      "outputs": [],
      "source": [
        "import pandas as pd\n",
        "import numpy as np\n",
        "import matplotlib.pyplot as plt\n",
        "import seaborn as sns"
      ]
    },
    {
      "cell_type": "code",
      "source": [
        "data = pd.read_csv(r\"/content/adult 3.csv\")"
      ],
      "metadata": {
        "id": "nZaGjs9-RVZN"
      },
      "execution_count": null,
      "outputs": []
    },
    {
      "cell_type": "code",
      "source": [
        "print(data.shape)\n",
        "print(data.describe())\n",
        "print(data.info())\n",
        "print(data.head())"
      ],
      "metadata": {
        "id": "j7P250B4RnBI"
      },
      "execution_count": null,
      "outputs": []
    },
    {
      "cell_type": "code",
      "source": [
        "print(data.isnull().sum())"
      ],
      "metadata": {
        "id": "qptEhh5WR9_n"
      },
      "execution_count": null,
      "outputs": []
    },
    {
      "cell_type": "code",
      "source": [
        "print(data.occupation.value_counts())"
      ],
      "metadata": {
        "id": "2zA3zMv_SSXK"
      },
      "execution_count": null,
      "outputs": []
    },
    {
      "cell_type": "code",
      "source": [
        "data.replace('?',np.nan,inplace=True)\n",
        "data.dropna(inplace=True)"
      ],
      "metadata": {
        "id": "PPkki8QzSiI-"
      },
      "execution_count": null,
      "outputs": []
    },
    {
      "cell_type": "code",
      "source": [
        "print(data.occupation.value_counts())\n",
        "print(data[\"marital-status\"].value_counts())\n",
        "print(data[\"workclass\"].value_counts())\n",
        "print(data[\"native-country\"].value_counts())\n",
        "print(data[\"education\"].value_counts())"
      ],
      "metadata": {
        "id": "Z7yoKa3FSv4o"
      },
      "execution_count": null,
      "outputs": []
    },
    {
      "cell_type": "code",
      "source": [
        "data = data[data[\"workclass\"]!= \"Without-pay\"]\n",
        "data = data[data[\"workclass\"]!= \"Never-worked\"]\n",
        "\n",
        "data = data[data[\"education\"]!= \"5th-6th\"]\n",
        "data = data[data[\"education\"]!= \"1st-4th\"]\n",
        "data = data[data[\"education\"]!= \"Preschool\"]"
      ],
      "metadata": {
        "id": "KydEC92DYCc8"
      },
      "execution_count": null,
      "outputs": []
    },
    {
      "cell_type": "code",
      "source": [
        "#reduece dimension\n",
        "data.drop(columns=[\"education\"],inplace = True)  #redundant features removal\n",
        "data  # yeah we removed educational column"
      ],
      "metadata": {
        "id": "xJLgKewfZs0u"
      },
      "execution_count": null,
      "outputs": []
    },
    {
      "cell_type": "code",
      "source": [
        "# label encoding\n",
        "from sklearn.preprocessing import LabelEncoder\n",
        "encoder = LabelEncoder()\n",
        "data[\"workclass\"]= encoder.fit_transform(data[\"workclass\"])\n",
        "data[\"marital-status\"]= encoder.fit_transform(data[\"marital-status\"])\n",
        "data[\"occupation\"]= encoder.fit_transform(data[\"occupation\"])\n",
        "data[\"relationship\"]= encoder.fit_transform(data[\"relationship\"])\n",
        "data[\"race\"]= encoder.fit_transform(data[\"race\"])\n",
        "data[\"gender\"]= encoder.fit_transform(data[\"gender\"])\n",
        "data[\"native-country\"]=encoder.fit_transform(data[\"native-country\"])\n",
        "data"
      ],
      "metadata": {
        "id": "XgRm1kuBZyRc"
      },
      "execution_count": null,
      "outputs": []
    },
    {
      "cell_type": "code",
      "source": [
        "X = data.drop(columns =[\"income\"]) # input\n",
        "y = data[\"income\"]  # outut\n",
        "X"
      ],
      "metadata": {
        "id": "0eIGBS9BaJIg"
      },
      "execution_count": null,
      "outputs": []
    },
    {
      "cell_type": "code",
      "source": [
        "from sklearn.pipeline import Pipeline\n",
        "from sklearn.model_selection import train_test_split\n",
        "from sklearn.metrics import accuracy_score,classification_report\n",
        "\n",
        "\n",
        "from sklearn.linear_model import LogisticRegression\n",
        "from sklearn.ensemble import RandomForestClassifier, GradientBoostingClassifier\n",
        "from sklearn.neighbors import KNeighborsClassifier\n",
        "from sklearn.svm import SVC\n",
        "from sklearn.preprocessing import StandardScaler\n",
        "\n",
        "\n",
        "\n",
        "X_train, X_test, y_train, y_test = train_test_split(X, y, test_size=0.2, random_state=42)\n",
        "\n",
        "# Define models\n",
        "models = {\n",
        "    \"LogisticRegression\": LogisticRegression(max_iter=1000),\n",
        "    \"RandomForest\": RandomForestClassifier(),\n",
        "    \"KNN\": KNeighborsClassifier(),\n",
        "    \"SVM\": SVC(),\n",
        "    \"GradientBoosting\": GradientBoostingClassifier()\n",
        "}\n",
        "\n",
        "results = {}\n",
        "\n",
        "# Train and evaluate\n",
        "for name, model in models.items():\n",
        "    pipe = Pipeline([\n",
        "      ('scaler', StandardScaler()),\n",
        "      ('model', model)\n",
        "   ])\n",
        "\n",
        "    pipe.fit(X_train, y_train)\n",
        "    y_pred = pipe.predict(X_test)\n",
        "    acc = accuracy_score(y_test, y_pred)\n",
        "    results[name] = acc\n",
        "    print(f\"{name}: {acc:.4f}\")\n",
        "    print(classification_report(y_test, y_pred))\n"
      ],
      "metadata": {
        "colab": {
          "base_uri": "https://localhost:8080/"
        },
        "id": "OQDpcLjNcjK8",
        "outputId": "b71612c7-82ee-44f1-c1b1-4a9262e652d9"
      },
      "execution_count": null,
      "outputs": [
        {
          "output_type": "stream",
          "name": "stdout",
          "text": [
            "LogisticRegression: 0.8269\n",
            "              precision    recall  f1-score   support\n",
            "\n",
            "       <=50K       0.85      0.94      0.89      7479\n",
            "        >50K       0.70      0.45      0.55      2290\n",
            "\n",
            "    accuracy                           0.83      9769\n",
            "   macro avg       0.78      0.70      0.72      9769\n",
            "weighted avg       0.81      0.83      0.81      9769\n",
            "\n",
            "RandomForest: 0.8648\n",
            "              precision    recall  f1-score   support\n",
            "\n",
            "       <=50K       0.89      0.93      0.91      7479\n",
            "        >50K       0.75      0.64      0.69      2290\n",
            "\n",
            "    accuracy                           0.86      9769\n",
            "   macro avg       0.82      0.79      0.80      9769\n",
            "weighted avg       0.86      0.86      0.86      9769\n",
            "\n",
            "KNN: 0.8345\n",
            "              precision    recall  f1-score   support\n",
            "\n",
            "       <=50K       0.88      0.91      0.89      7479\n",
            "        >50K       0.66      0.60      0.63      2290\n",
            "\n",
            "    accuracy                           0.83      9769\n",
            "   macro avg       0.77      0.75      0.76      9769\n",
            "weighted avg       0.83      0.83      0.83      9769\n",
            "\n",
            "SVM: 0.8570\n",
            "              precision    recall  f1-score   support\n",
            "\n",
            "       <=50K       0.88      0.95      0.91      7479\n",
            "        >50K       0.77      0.56      0.65      2290\n",
            "\n",
            "    accuracy                           0.86      9769\n",
            "   macro avg       0.82      0.75      0.78      9769\n",
            "weighted avg       0.85      0.86      0.85      9769\n",
            "\n",
            "GradientBoosting: 0.8737\n",
            "              precision    recall  f1-score   support\n",
            "\n",
            "       <=50K       0.89      0.95      0.92      7479\n",
            "        >50K       0.80      0.62      0.70      2290\n",
            "\n",
            "    accuracy                           0.87      9769\n",
            "   macro avg       0.84      0.78      0.81      9769\n",
            "weighted avg       0.87      0.87      0.87      9769\n",
            "\n"
          ]
        }
      ]
    },
    {
      "cell_type": "code",
      "source": [
        "from sklearn.pipeline import Pipeline\n",
        "from sklearn.model_selection import train_test_split\n",
        "from sklearn.metrics import accuracy_score, classification_report\n",
        "\n",
        "from sklearn.linear_model import LogisticRegression\n",
        "from sklearn.ensemble import RandomForestClassifier,GradientBoostingClassifier\n",
        "from sklearn.neighbors import KNeighborsClassifier\n",
        "from sklearn.svm import SVC\n",
        "from sklearn.preprocessing import StandardScaler # standard is convert mean value data = 0 , and std = 1\n",
        "\n",
        "# Train-test split\n",
        "X_train, X_test, y_train, y_test = train_test_split(X, y, test_size=0.2, random_state=42)\n",
        "\n",
        "# Define models\n",
        "models = {\n",
        "    'Logistic Regression': LogisticRegression(),\n",
        "    'Random Forest': RandomForestClassifier(),\n",
        "    'Gradient Boosting': GradientBoostingClassifier(),\n",
        "    'K-Nearest Neighbors': KNeighborsClassifier(),\n",
        "    'SVM': SVC()\n",
        "} # here we  have created model object in single dictionary\n",
        "\n",
        "results = {}\n",
        "\n",
        "# Train and evaluate\n",
        "for name, model in models.items():\n",
        "    pipe = Pipeline([\n",
        "        ('scaler', StandardScaler()),\n",
        "        ('model', model)\n",
        "    ])\n",
        "\n",
        "    pipe.fit(X_train, y_train)\n",
        "    y_pred = pipe.predict(X_test)\n",
        "    acc = accuracy_score(y_test, y_pred)\n",
        "    results[name] = acc\n",
        "\n",
        "    print(f\"{name} Accuracy: {acc:.4f}\")\n",
        "\n",
        "\n",
        "import joblib\n",
        "# Get best model\n",
        "best_model_name = max(results, key=results.get)\n",
        "best_model = models[best_model_name]\n",
        "print(f\"\\n✅ Best model: {best_model_name} with accuracy {results[best_model_name]:.4f}\")\n",
        "\n",
        "# Save the best model\n",
        "joblib.dump(best_model, \"best_model.pkl\")\n",
        "print(\"✅ Saved best model as best_model.pkl\")"
      ],
      "metadata": {
        "colab": {
          "base_uri": "https://localhost:8080/"
        },
        "id": "fbVwhRZUcSwx",
        "outputId": "53d27226-26eb-4219-fd83-19c28ffa31cc"
      },
      "execution_count": null,
      "outputs": [
        {
          "output_type": "stream",
          "name": "stdout",
          "text": [
            "Logistic Regression Accuracy: 0.8269\n",
            "Random Forest Accuracy: 0.8640\n",
            "Gradient Boosting Accuracy: 0.8737\n",
            "K-Nearest Neighbors Accuracy: 0.8345\n",
            "SVM Accuracy: 0.8570\n",
            "\n",
            "✅ Best model: Gradient Boosting with accuracy 0.8737\n",
            "✅ Saved best model as best_model.pkl\n"
          ]
        }
      ]
    },
    {
      "cell_type": "code",
      "source": [
        "import matplotlib.pyplot as plt\n",
        "\n",
        "plt.bar(results.keys(), results.values(),color= \"skyblue\")\n",
        "plt.ylabel(\"Accuracy Score\")\n",
        "plt.title(\"Model Accuracy Comparison\")\n",
        "plt.xticks(rotation = 45)\n",
        "plt.grid(True)\n",
        "plt.show()"
      ],
      "metadata": {
        "colab": {
          "base_uri": "https://localhost:8080/",
          "height": 548
        },
        "id": "IuFLH2C0ah9s",
        "outputId": "693717e5-0709-46a8-e87b-bb30d04f5eef"
      },
      "execution_count": null,
      "outputs": [
        {
          "output_type": "display_data",
          "data": {
            "text/plain": [
              "<Figure size 640x480 with 1 Axes>"
            ],
            "image/png": "[encoded data removed]"
          },
          "metadata": {}
        }
      ]
    },
    {
      "cell_type": "code",
      "source": [
        "!pip install -q streamlit"
      ],
      "metadata": {
        "id": "SS37bCOTatxs"
      },
      "execution_count": null,
      "outputs": []
    },
    {
      "cell_type": "code",
      "source": [
        "! wget -q -O - ipv4.icanhazip.com"
      ],
      "metadata": {
        "colab": {
          "base_uri": "https://localhost:8080/"
        },
        "id": "kZULR5SLavar",
        "outputId": "2826f010-eb7a-48d1-9e6e-0e7f5c6a03a4"
      },
      "execution_count": null,
      "outputs": [
        {
          "output_type": "stream",
          "name": "stdout",
          "text": [
            "34.125.40.10\n"
          ]
        }
      ]
    },
    {
      "cell_type": "code",
      "source": [
        "%%writefile app.py\n",
        "import streamlit as st\n",
        "import pandas as pd\n",
        "import joblib\n",
        "\n",
        "# Load the trained model\n",
        "model = joblib.load(\"best_model.pkl\")\n",
        "\n",
        "st.set_page_config(page_title=\"Employee Salary Classification\", page_icon=\"💼\", layout=\"centered\")\n",
        "\n",
        "st.title(\"💼 Employee Salary Classification App\")\n",
        "st.markdown(\"Predict whether an employee earns >50K or ≤50K based on input features.\")\n",
        "\n",
        "# Sidebar inputs (these must match your training feature columns)\n",
        "st.sidebar.header(\"Input Employee Details\")\n",
        "\n",
        "# ✨ Replace these fields with your dataset's actual input columns\n",
        "age = st.sidebar.slider(\"Age\", 18, 65, 30)\n",
        "education = st.sidebar.selectbox(\"Education Level\", [\n",
        "    \"Bachelors\", \"Masters\", \"PhD\", \"HS-grad\", \"Assoc\", \"Some-college\"\n",
        "])\n",
        "occupation = st.sidebar.selectbox(\"Job Role\", [\n",
        "    \"Tech-support\", \"Craft-repair\", \"Other-service\", \"Sales\",\n",
        "    \"Exec-managerial\", \"Prof-specialty\", \"Handlers-cleaners\", \"Machine-op-inspct\",\n",
        "    \"Adm-clerical\", \"Farming-fishing\", \"Transport-moving\", \"Priv-house-serv\",\n",
        "    \"Protective-serv\", \"Armed-Forces\"\n",
        "])\n",
        "hours_per_week = st.sidebar.slider(\"Hours per week\", 1, 80, 40)\n",
        "experience = st.sidebar.slider(\"Years of Experience\", 0, 40, 5)\n",
        "\n",
        "# Building input DataFrame\n",
        "input_df = pd.DataFrame({\n",
        "    'age': [age],\n",
        "    'education': [education],\n",
        "    'occupation': [occupation],\n",
        "    'hours-per-week': [hours_per_week],\n",
        "    'experience': [experience]\n",
        "})\n",
        "\n",
        "st.write(\"### 🔎 Input Data\")\n",
        "st.write(input_df)\n",
        "\n",
        "\n",
        "# Predict button\n",
        "if st.button(\"Predict Salary Class\"):\n",
        "    prediction = model.predict(input_df)\n",
        "    st.success(f\"✅ Prediction: {prediction[0]}\")\n",
        "\n",
        "\n",
        "# Batch prediction\n",
        "st.markdown(\"---\")\n",
        "st.markdown(\"#### 📂 Batch Prediction\")\n",
        "uploaded_file = st.file_uploader(\"Upload a CSV file for batch prediction\", type=\"csv\")\n",
        "\n",
        "if uploaded_file is not None:\n",
        "    batch_data = pd.read_csv(uploaded_file)\n",
        "    st.write(\"Uploaded data preview:\", batch_data.head())\n",
        "    batch_preds = model.predict(batch_data)\n",
        "    batch_data['PredictedClass'] = batch_preds\n",
        "    st.write(\"✅ Predictions:\")\n",
        "    st.write(batch_data.head())\n",
        "    csv = batch_data.to_csv(index=False).encode('utf-8')\n",
        "    st.download_button(\"Download Predictions CSV\", csv, file_name='predicted_classes.csv', mime='text/csv')\n"
      ],
      "metadata": {
        "colab": {
          "base_uri": "https://localhost:8080/"
        },
        "id": "Og7PGY5Y1xLc",
        "outputId": "825c026a-5a13-4071-ef88-6e8fc8c0c22d"
      },
      "execution_count": null,
      "outputs": [
        {
          "output_type": "stream",
          "name": "stdout",
          "text": [
            "Overwriting app.py\n"
          ]
        }
      ]
    },
    {
      "cell_type": "code",
      "source": [
        "! pip install streamlit pyngrok"
      ],
      "metadata": {
        "id": "leYpi-MgnFBd"
      },
      "execution_count": null,
      "outputs": []
    },
    {
      "cell_type": "code",
      "source": [
        "!ngrok authtoken 30Mq4H1fnUQ9SmrHVr8osWNHVVz_5PH15PjPbEgFrxjbeQvS9"
      ],
      "metadata": {
        "colab": {
          "base_uri": "https://localhost:8080/"
        },
        "id": "OXyx31o6nSLr",
        "outputId": "89e72d89-9a61-474b-f6a2-50d540fa1f0f"
      },
      "execution_count": null,
      "outputs": [
        {
          "output_type": "stream",
          "name": "stdout",
          "text": [
            "Authtoken saved to configuration file: /root/.config/ngrok/ngrok.yml\n"
          ]
        }
      ]
    },
    {
      "cell_type": "code",
      "source": [
        "import os\n",
        "import threading\n",
        "\n",
        "def run_streamlit():\n",
        "  os.system(\"streamlit run app.py --server.port 8501\")\n",
        "\n",
        "  thread = threading.Thread(targrt =run_streamlit)\n",
        "  thread.start()"
      ],
      "metadata": {
        "id": "Di3bXP4do3gB"
      },
      "execution_count": null,
      "outputs": []
    },
    {
      "cell_type": "code",
      "source": [
        "from pyngrok import ngrok\n",
        "import time\n",
        "\n",
        "# wait a few second to make sure Strea,lit started\n",
        "time.sleep(5)\n",
        "\n",
        "# create a tunnel to the streamlit port 8501\n",
        "public_url = ngrok.connect(8501)\n",
        "print(\"your streamlit app is live here:\", public_url)\n",
        "!streamlit run --server.port 8501 app.py >/dev/null"
      ],
      "metadata": {
        "colab": {
          "base_uri": "https://localhost:8080/"
        },
        "id": "Mc1qJRWcpTRl",
        "outputId": "103706dd-0b96-4a6e-ed82-9b120c867a42"
      },
      "execution_count": null,
      "outputs": [
        {
          "output_type": "stream",
          "name": "stdout",
          "text": [
            "your streamlit app is live here: NgrokTunnel: \"https://720003f004f9.ngrok-free.app\" -> \"http://localhost:8501\"\n"
          ]
        }
      ]
    }
  ]
}